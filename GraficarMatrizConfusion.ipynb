{
  "nbformat": 4,
  "nbformat_minor": 0,
  "metadata": {
    "colab": {
      "name": "GraficarMatrizConfusion.ipynb",
      "provenance": [],
      "collapsed_sections": [],
      "authorship_tag": "ABX9TyMC4UqdCgU2zb4y3UQ/s8PM",
      "include_colab_link": true
    },
    "kernelspec": {
      "name": "python3",
      "display_name": "Python 3"
    },
    "language_info": {
      "name": "python"
    }
  },
  "cells": [
    {
      "cell_type": "markdown",
      "metadata": {
        "id": "view-in-github",
        "colab_type": "text"
      },
      "source": [
        "<a href=\"https://colab.research.google.com/github/aabarzu/Coding-Dojo/blob/main/GraficarMatrizConfusion.ipynb\" target=\"_parent\"><img src=\"https://colab.research.google.com/assets/colab-badge.svg\" alt=\"Open In Colab\"/></a>"
      ]
    },
    {
      "cell_type": "code",
      "source": [
        "import pandas as pd\n",
        "from pandas.core.frame import DataFrame\n",
        "\n",
        "import matplotlib.pyplot as plt #from matplotlib import pyplot as plt\n",
        "import seaborn as sns\n",
        "import numpy as np\n",
        "\n",
        "sns.set_theme()\n"
      ],
      "metadata": {
        "id": "HMTdOSIQ75bE"
      },
      "execution_count": 2,
      "outputs": []
    },
    {
      "cell_type": "code",
      "source": [
        "def CalculosVarios(tn, fp, fn, tp):\n",
        "  \n",
        "  # Calcular sensibilidad, especificidad, Precisión , Type 1 Error Rate, Type 2 Error Rate\n",
        "  \n",
        "  sensitivity = tp / (tp + fn)\n",
        "  specificity = tn / (tn + fp)\n",
        "  precision   = tp / (tp + fp)\n",
        "  score       = 2 * ((precision * sensitivity ) /  (precision + sensitivity ))\n",
        "  \n",
        "  print('Sensitivity: {:.5f}'.format(sensitivity))\n",
        "  print('Specificity: {:.5f}'.format(specificity))\n",
        "  print('Precisión: {:.5f}'.format(precision))\n",
        "  print('Score: {:.5f}'.format(score))\n",
        "  \n",
        "\n",
        "  # especificidad: tasa negativa verdadera\n",
        "  # Tasa de falsos positivos (FPR) = 1 - especificidad\n",
        "  # También conocido como error tipo 1\n",
        "\n",
        "  type_one_error = 1 - specificity\n",
        "\n",
        "  # sensibilidad: tasa de verdaderos positivos\n",
        "  # Tasa de falsos negativos (FOR) = 1 - sensibilidad\n",
        "  # También conocido como error tipo 2\n",
        "\n",
        "  type_two_error = 1 - sensitivity\n",
        "  print('Type 1 Error Rate: {:.3f}'.format(type_one_error))\n",
        "  print('Type 2 Error Rate: {:.3f}'.format(type_two_error))\n",
        "\n",
        "  return sensitivity , specificity , precision , type_one_error  , type_two_error , score"
      ],
      "metadata": {
        "id": "EwZ_WISP_waT"
      },
      "execution_count": 33,
      "outputs": []
    },
    {
      "cell_type": "code",
      "execution_count": 39,
      "metadata": {
        "id": "Ccbu9jiJ7eRo"
      },
      "outputs": [],
      "source": [
        "def GraficoMatrizConfuncion(matrix,class_names,score):\n",
        "\n",
        "  # crear marco de datos de pandas Crear un conjunto de datos\n",
        "  # class_names = Nombres de la matriz según los campos ['campo1','campo2']\n",
        "  # Creo que se usa más para clasificación\n",
        "\n",
        "  dataframe = pd.DataFrame(matrix, index=class_names, columns=class_names)\n",
        "\n",
        "  # crear mapa de calor dibujar mapa de calor\n",
        "  sns.heatmap(dataframe, annot=True, cbar=None, cmap=\"Blues\")\n",
        "  plt.title('Accuracy Score: {:.10f}'.format(score)), plt.tight_layout()\n",
        "  plt.ylabel(\"Actual Label\"), plt.xlabel(\"Predicted Label\")\n",
        "  plt.show();"
      ]
    },
    {
      "cell_type": "code",
      "source": [
        "matriz =  np.array([[87, 16],[17, 59]]) \n",
        "matriz"
      ],
      "metadata": {
        "colab": {
          "base_uri": "https://localhost:8080/"
        },
        "id": "4Y3odpR-7w4N",
        "outputId": "7e13cb96-7535-4c75-cfa4-11affb4f91a3"
      },
      "execution_count": 26,
      "outputs": [
        {
          "output_type": "execute_result",
          "data": {
            "text/plain": [
              "array([[87, 16],\n",
              "       [17, 59]])"
            ]
          },
          "metadata": {},
          "execution_count": 26
        }
      ]
    },
    {
      "cell_type": "code",
      "source": [
        "tn, fp, fn, tp = matriz.ravel()"
      ],
      "metadata": {
        "id": "P1bmYukX_neU"
      },
      "execution_count": 27,
      "outputs": []
    },
    {
      "cell_type": "code",
      "source": [
        "sensitivity , specificity , precision , type_one_error  , type_two_error , score = CalculosVarios(tn, fp, fn, tp)"
      ],
      "metadata": {
        "colab": {
          "base_uri": "https://localhost:8080/"
        },
        "id": "vDiMFA1c_tdC",
        "outputId": "f4b0274c-38d4-424f-c53a-06cc80082da2"
      },
      "execution_count": 34,
      "outputs": [
        {
          "output_type": "stream",
          "name": "stdout",
          "text": [
            "Sensitivity: 0.77632\n",
            "Specificity: 0.84466\n",
            "Precisión: 0.78667\n",
            "Score: 0.78146\n",
            "Type 1 Error Rate: 0.155\n",
            "Type 2 Error Rate: 0.224\n"
          ]
        }
      ]
    },
    {
      "cell_type": "code",
      "source": [
        "GraficoMatrizConfuncion(matriz, ['0','1'], score)"
      ],
      "metadata": {
        "colab": {
          "base_uri": "https://localhost:8080/",
          "height": 310
        },
        "id": "2RrLr0ky9b_k",
        "outputId": "2d03ede4-9e99-4c3e-bf80-6e467f9d7963"
      },
      "execution_count": 40,
      "outputs": [
        {
          "output_type": "display_data",
          "data": {
            "text/plain": [
              "<Figure size 432x288 with 1 Axes>"
            ],
            "image/png": "[encoded data removed]"
          },
          "metadata": {}
        }
      ]
    },
    {
      "cell_type": "markdown",
      "source": [
        "fuentes   \n",
        "https://medium.com/analytics-vidhya/confusion-matrix-accuracy-precision-recall-f1-score-ade299cf63cd#:~:text=Accuracy%20represents%20the%20number%20of,the%20accuracy%20will%20be%2085%25.\n",
        "\n",
        "https://www.analyticslane.com/2019/09/04/numpy-basico-creacion-de-un-array-de-numpy-a-partir-de-una-listas-o-tuplas/\n",
        "\n",
        "https://programmerclick.com/article/4356413551/\n"
      ],
      "metadata": {
        "id": "L0FOjA9rBnkQ"
      }
    }
  ]
}