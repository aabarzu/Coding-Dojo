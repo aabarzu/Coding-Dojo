{
  "nbformat": 4,
  "nbformat_minor": 0,
  "metadata": {
    "colab": {
      "name": "calculopago.ipynb",
      "provenance": [],
      "authorship_tag": "ABX9TyMK9RcnFY86glP5TlaSBRHD",
      "include_colab_link": true
    },
    "kernelspec": {
      "name": "python3",
      "display_name": "Python 3"
    },
    "language_info": {
      "name": "python"
    }
  },
  "cells": [
    {
      "cell_type": "markdown",
      "metadata": {
        "id": "view-in-github",
        "colab_type": "text"
      },
      "source": [
        "<a href=\"https://colab.research.google.com/github/aabarzu/Coding-Dojo/blob/main/calculopago.ipynb\" target=\"_parent\"><img src=\"https://colab.research.google.com/assets/colab-badge.svg\" alt=\"Open In Colab\"/></a>"
      ]
    },
    {
      "cell_type": "code",
      "source": [
        "p = 400000\n",
        "r = 3\n",
        "n = 360\n",
        "\n",
        "r = r/100.0/12.0\n",
        "valor1 = (1+r)**n\n",
        "\n",
        "print(f\" Valor cuota {round( p* ((r * valor1)/(valor1 -1)) , 4)}\\n\")\n",
        "\n",
        "\n"
      ],
      "metadata": {
        "colab": {
          "base_uri": "https://localhost:8080/"
        },
        "id": "YBIFCim56xoD",
        "outputId": "6369bccc-9537-49e4-e5a5-1bb0629d76ff"
      },
      "execution_count": 5,
      "outputs": [
        {
          "output_type": "stream",
          "name": "stdout",
          "text": [
            " Valor cuota 1686.42\n",
            "\n"
          ]
        }
      ]
    }
  ]
}