{
  "nbformat": 4,
  "nbformat_minor": 0,
  "metadata": {
    "colab": {
      "name": "MetricasRegresion.ipynb",
      "provenance": [],
      "collapsed_sections": [],
      "authorship_tag": "ABX9TyMW4STr+WJxGzS98vqkiRGi",
      "include_colab_link": true
    },
    "kernelspec": {
      "name": "python3",
      "display_name": "Python 3"
    },
    "language_info": {
      "name": "python"
    }
  },
  "cells": [
    {
      "cell_type": "markdown",
      "metadata": {
        "id": "view-in-github",
        "colab_type": "text"
      },
      "source": [
        "<a href=\"https://colab.research.google.com/github/aabarzu/Coding-Dojo/blob/main/MetricasRegresion.ipynb\" target=\"_parent\"><img src=\"https://colab.research.google.com/assets/colab-badge.svg\" alt=\"Open In Colab\"/></a>"
      ]
    },
    {
      "cell_type": "code",
      "source": [
        "from sklearn.metrics import mean_absolute_error\n",
        "from sklearn.metrics import mean_squared_error \n",
        "from sklearn.metrics import r2_score\n",
        "import numpy as np\n",
        "import math"
      ],
      "metadata": {
        "id": "2ZIsU4qHPO98"
      },
      "execution_count": 37,
      "outputs": []
    },
    {
      "cell_type": "code",
      "source": [
        "def CalculoVarianaza(y_test):\n",
        "\n",
        "  media = y_test.mean()\n",
        "  \n",
        "  \n",
        "  return ( ( (y_test - media)**2 ).sum()) / len(y_test)\n",
        "  "
      ],
      "metadata": {
        "id": "ljQCLQJvgXWi"
      },
      "execution_count": 38,
      "outputs": []
    },
    {
      "cell_type": "markdown",
      "source": [
        ""
      ],
      "metadata": {
        "id": "VTf6-hxanfwb"
      }
    },
    {
      "cell_type": "code",
      "source": [
        "# Error absoluto medio (MAE)\n",
        "def CalculoMAE(y_test , y_pred):\n",
        "    \n",
        "    return   ( abs(y_test - y_pred)).sum() / len(y_test)\n",
        "\n",
        "   "
      ],
      "metadata": {
        "id": "QN95uFX_jK-N"
      },
      "execution_count": 39,
      "outputs": []
    },
    {
      "cell_type": "code",
      "execution_count": 40,
      "metadata": {
        "id": "4AlwhxF7in25"
      },
      "outputs": [],
      "source": [
        "# Error cuadrático medio (MSE)\n",
        "def CalculoMSE(y_test , y_pred):\n",
        "  \n",
        "  if y_test.size == y_pred.size:\n",
        "    return ((y_test - y_pred) ** 2.0).sum()/len(y_test) \n",
        "    # (  (y_test - y_pred) ** 2.0 ).sum /len(y_test) \n",
        "\n",
        "  if y_test.size != y_pred.size:  \n",
        "    return 0.0\n"
      ]
    },
    {
      "cell_type": "code",
      "source": [
        "# Raíz del error cuadrático medio (MSE):\n",
        "\n",
        "def CalculoRaizMSE(y_test , y_pred):\n",
        "  return math.sqrt(CalculoMSE(y_test , y_pred)) \n",
        "  "
      ],
      "metadata": {
        "id": "dLC3q7Pwi5Uw"
      },
      "execution_count": 41,
      "outputs": []
    },
    {
      "cell_type": "code",
      "source": [
        "# Determinación de coeficiente\n",
        "def CalculoR2( y_test , y_pred):\n",
        "  \n",
        "  \n",
        "  return  1- (CalculoMSE( y_test , y_pred))/CalculoVarianaza(y_test)\n",
        "  #return CalculoMSE( y_test , y_pred)/( y_test - y_test.mean())\n",
        "  "
      ],
      "metadata": {
        "id": "BwwfxmIfjc6J"
      },
      "execution_count": 42,
      "outputs": []
    },
    {
      "cell_type": "code",
      "source": [
        "\n",
        "\n",
        "y_test =  np.arange(0,10,0.75)\n",
        "y_pred =  ( 0.75*np.random.rand(len(y_test)) - 2 ) + y_test \n"
      ],
      "metadata": {
        "id": "JLOEtHxhks2O"
      },
      "execution_count": 43,
      "outputs": []
    },
    {
      "cell_type": "code",
      "source": [
        "CalculoMAE( y_test, y_pred ) , CalculoMSE( y_test, y_pred) , round( CalculoRaizMSE(y_test , y_pred) , 5 )"
      ],
      "metadata": {
        "id": "1Lm_JykOmZbo",
        "colab": {
          "base_uri": "https://localhost:8080/"
        },
        "outputId": "2acefd70-e825-49bd-9cc4-bbacb6771d4d"
      },
      "execution_count": 44,
      "outputs": [
        {
          "output_type": "execute_result",
          "data": {
            "text/plain": [
              "(1.6372466644371964, 2.715534891876334, 1.64789)"
            ]
          },
          "metadata": {},
          "execution_count": 44
        }
      ]
    },
    {
      "cell_type": "markdown",
      "source": [
        "# **Calculo con liberias from sklearn.metrics y con funciones**"
      ],
      "metadata": {
        "id": "zaAZCI4FyhEq"
      }
    },
    {
      "cell_type": "code",
      "source": [
        "#Datos Fijos\n",
        "Y_test =   [1,1,2,2,4]  \n",
        "  \n",
        "Y_pred =   [0.6,1.29,1.99,2.69,3.4]  \n",
        "\n",
        "Y_test_np =  np.array( Y_test  )\n",
        "  \n",
        "Y_pred_np =  np.array( Y_pred )\n",
        "\n",
        "mae = mean_absolute_error(Y_test, Y_pred)\n",
        "mse  = mean_squared_error(Y_test, Y_pred)\n",
        "rmse = mean_squared_error(Y_test, Y_pred, squared=False)\n",
        "r2   = r2_score(Y_test, Y_pred)\n",
        "\n",
        "print(f\"Con Librerias mae = {mae}, mse = {mse}, rmse = {rmse}, R2 = {r2}\")\n",
        "print(f\"Calculadas    MAE = {CalculoMAE( Y_test_np , Y_pred_np )}, MSE = {CalculoMSE(Y_test_np , Y_pred_np)}, SMSE = {CalculoRaizMSE( Y_test_np , Y_pred_np)}, R2 = {CalculoR2(Y_test_np , Y_pred_np)}\"  )\n",
        "print(f\"Varianza = {CalculoVarianaza(Y_test_np) }\")"
      ],
      "metadata": {
        "colab": {
          "base_uri": "https://localhost:8080/"
        },
        "id": "p8jifVSb0qG9",
        "outputId": "29e3076e-9823-459d-e8f9-652b36105cc2"
      },
      "execution_count": 47,
      "outputs": [
        {
          "output_type": "stream",
          "name": "stdout",
          "text": [
            "Con Librerias mae = 0.398, mse = 0.21606, rmse = 0.4648225467853297, R2 = 0.81995\n",
            "Calculadas    MAE = 0.398, MSE = 0.21606, SMSE = 0.4648225467853297, R2 = 0.81995\n",
            "Varianza = 1.2\n"
          ]
        }
      ]
    },
    {
      "cell_type": "code",
      "source": [
        "#Datos aleatorios\n",
        "\n",
        "Y_test_np = np.arange( 0, 10 , 0.75)\n",
        "Y_pred_np =  ( 0.75*np.random.rand(len(Y_test_np)) - 2 ) + Y_test_np \n",
        "\n",
        "Y_test = Y_test_np.tolist()\n",
        "Y_pred = Y_pred_np.tolist()\n",
        "\n",
        "mae = mean_absolute_error(Y_test, Y_pred)\n",
        "mse  = mean_squared_error(Y_test, Y_pred)\n",
        "rmse = mean_squared_error(Y_test, Y_pred, squared=False)\n",
        "r2   = r2_score(Y_test, Y_pred)\n",
        "\n",
        "print(f\"Con Librerias mae = {mae}, mse = {mse}, rmse = {rmse}, R2 = {r2}\")\n",
        "print(f\"Calculadas    MAE = {CalculoMAE( Y_test_np , Y_pred_np )}, MSE = {CalculoMSE(Y_test_np , Y_pred_np)}, SMSE = {CalculoRaizMSE( Y_test_np , Y_pred_np)}, R2 = {CalculoR2(Y_test_np , Y_pred_np)}\"  )\n",
        "print(f\"Varianza = {CalculoVarianaza(Y_test_np) }\")"
      ],
      "metadata": {
        "colab": {
          "base_uri": "https://localhost:8080/"
        },
        "id": "hBwK2qt7ONKG",
        "outputId": "aa875ca6-2570-4c91-f14c-f42f968c3f06"
      },
      "execution_count": 48,
      "outputs": [
        {
          "output_type": "stream",
          "name": "stdout",
          "text": [
            "Con Librerias mae = 1.5910526517430394, mse = 2.562352343625016, rmse = 1.6007349385907137, R2 = 0.7196742735179469\n",
            "Calculadas    MAE = 1.5910526517430394, MSE = 2.562352343625016, SMSE = 1.6007349385907137, R2 = 0.7196742735179469\n",
            "Varianza = 9.140625\n"
          ]
        }
      ]
    }
  ]
}