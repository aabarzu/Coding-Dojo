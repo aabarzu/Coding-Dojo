{
  "nbformat": 4,
  "nbformat_minor": 0,
  "metadata": {
    "colab": {
      "name": "MetricasRegresion.ipynb",
      "provenance": [],
      "collapsed_sections": [],
      "authorship_tag": "ABX9TyNU1GGm8mC6mhQmVJybYGpo",
      "include_colab_link": true
    },
    "kernelspec": {
      "name": "python3",
      "display_name": "Python 3"
    },
    "language_info": {
      "name": "python"
    }
  },
  "cells": [
    {
      "cell_type": "markdown",
      "metadata": {
        "id": "view-in-github",
        "colab_type": "text"
      },
      "source": [
        "<a href=\"https://colab.research.google.com/github/aabarzu/Coding-Dojo/blob/main/MetricasRegresion.ipynb\" target=\"_parent\"><img src=\"https://colab.research.google.com/assets/colab-badge.svg\" alt=\"Open In Colab\"/></a>"
      ]
    },
    {
      "cell_type": "code",
      "source": [
        "# Error absoluto medio (MAE)\n",
        "def CalculoMAE(y_test , y_pred):\n",
        "    \n",
        "    return   ( abs(y_test - y_pred)).sum() / len(y_test)\n",
        "\n",
        "   "
      ],
      "metadata": {
        "id": "QN95uFX_jK-N"
      },
      "execution_count": 175,
      "outputs": []
    },
    {
      "cell_type": "code",
      "execution_count": 195,
      "metadata": {
        "id": "4AlwhxF7in25"
      },
      "outputs": [],
      "source": [
        "# Error cuadrático medio (MSE)\n",
        "def CalculoMSE(y_test , y_pred):\n",
        "  \n",
        "  if y_test.size == y_pred.size:\n",
        "    return ((y_test - y_pred) ** 2.0).sum()/len(y_test) \n",
        "    # (  (y_test - y_pred) ** 2.0 ).sum /len(y_test) \n",
        "\n",
        "  if y_test.size != y_pred.size:  \n",
        "    return 0.0\n"
      ]
    },
    {
      "cell_type": "code",
      "source": [
        "# Raíz del error cuadrático medio (MSE):\n",
        "import math\n",
        "def CalculoRaizMSE(y_test , y_pred):\n",
        "  return math.sqrt(CalculoMSE(y_test , y_pred)) \n",
        "  "
      ],
      "metadata": {
        "id": "dLC3q7Pwi5Uw"
      },
      "execution_count": 207,
      "outputs": []
    },
    {
      "cell_type": "code",
      "source": [
        "# Determinación de coeficiente\n",
        "def CalculoR2( y_test , y_pred):\n",
        "  \n",
        "  pass"
      ],
      "metadata": {
        "id": "BwwfxmIfjc6J"
      },
      "execution_count": 146,
      "outputs": []
    },
    {
      "cell_type": "code",
      "source": [
        "\n",
        "\n",
        "y_test =  np.arange(0,10,0.75)\n",
        "y_pred =  ( 0.75*np.random.rand(len(y_test)) - 2 ) + y_test \n"
      ],
      "metadata": {
        "id": "JLOEtHxhks2O"
      },
      "execution_count": 147,
      "outputs": []
    },
    {
      "cell_type": "code",
      "source": [
        "y_test.reshape(-1,1)"
      ],
      "metadata": {
        "colab": {
          "base_uri": "https://localhost:8080/"
        },
        "id": "TZsAJIENmGF2",
        "outputId": "250a7082-25e8-4bc3-cdd2-7ac2c5f744b4"
      },
      "execution_count": 148,
      "outputs": [
        {
          "output_type": "execute_result",
          "data": {
            "text/plain": [
              "array([[0.  ],\n",
              "       [0.75],\n",
              "       [1.5 ],\n",
              "       [2.25],\n",
              "       [3.  ],\n",
              "       [3.75],\n",
              "       [4.5 ],\n",
              "       [5.25],\n",
              "       [6.  ],\n",
              "       [6.75],\n",
              "       [7.5 ],\n",
              "       [8.25],\n",
              "       [9.  ],\n",
              "       [9.75]])"
            ]
          },
          "metadata": {},
          "execution_count": 148
        }
      ]
    },
    {
      "cell_type": "code",
      "source": [
        "y_pred.reshape(-1,1)"
      ],
      "metadata": {
        "colab": {
          "base_uri": "https://localhost:8080/"
        },
        "id": "FIkA2A2NmHE4",
        "outputId": "47fdceac-b6e5-4b18-c341-de8cbc83eb1c"
      },
      "execution_count": 149,
      "outputs": [
        {
          "output_type": "execute_result",
          "data": {
            "text/plain": [
              "array([[-1.62187858],\n",
              "       [-0.50015035],\n",
              "       [ 0.17334686],\n",
              "       [ 0.31079605],\n",
              "       [ 1.39502358],\n",
              "       [ 1.93552299],\n",
              "       [ 2.8168334 ],\n",
              "       [ 3.93860462],\n",
              "       [ 4.47848858],\n",
              "       [ 4.79143662],\n",
              "       [ 5.61382346],\n",
              "       [ 6.35048104],\n",
              "       [ 7.60959153],\n",
              "       [ 8.31599168]])"
            ]
          },
          "metadata": {},
          "execution_count": 149
        }
      ]
    },
    {
      "cell_type": "code",
      "source": [
        "CalculoMAE( y_test, y_pred ) , CalculoMSE( y_test, y_pred) , round( CalculoRaizMSE(y_test , y_pred) , 5 )"
      ],
      "metadata": {
        "colab": {
          "base_uri": "https://localhost:8080/"
        },
        "id": "1Lm_JykOmZbo",
        "outputId": "9d597317-77fd-4947-bf77-ba020e9fc547"
      },
      "execution_count": 150,
      "outputs": [
        {
          "output_type": "execute_result",
          "data": {
            "text/plain": [
              "(array([0.11584847, 0.08929645, 0.09476094, 0.13851457, 0.11464117,\n",
              "        0.1296055 , 0.12022619, 0.0936711 , 0.10867939, 0.13989738,\n",
              "        0.1347269 , 0.13567993, 0.09931489, 0.10242917]), 36.61887, 6.05135)"
            ]
          },
          "metadata": {},
          "execution_count": 150
        }
      ]
    },
    {
      "cell_type": "code",
      "source": [
        "from sklearn.metrics import mean_absolute_error\n",
        "from sklearn.metrics import mean_squared_error \n",
        "from sklearn.metrics import r2_score\n",
        "import numpy as np\n",
        "\n",
        "\n",
        "Y_test =   [1,1,2,2,4]  \n",
        "  \n",
        "Y_pred =   [0.6,1.29,1.99,2.69,3.4]  \n",
        "\n",
        "Y_test_np =  np.array( Y_test  )\n",
        "  \n",
        "Y_pred_np =  np.array( Y_pred )\n",
        "\n",
        "mae = mean_absolute_error(Y_test, Y_pred)\n",
        "mse  = mean_squared_error(Y_test, Y_pred)\n",
        "rmse = mean_squared_error(Y_test, Y_pred, squared=False)\n",
        "r2   = r2_score(Y_test, Y_pred)\n",
        "\n",
        "print(f\"Con Librerias mae = {mae}, mse = {mse}, rmse = {rmse}, R2 ={r2}\")\n",
        "print(f\"Calculadas    MAE = {CalculoMAE( Y_test_np , Y_pred_np )}, MSE = {CalculoMSE(Y_test_np , Y_pred_np)}, SMSE = {CalculoRaizMSE( Y_test_np , Y_pred_np)}\"  )"
      ],
      "metadata": {
        "colab": {
          "base_uri": "https://localhost:8080/"
        },
        "id": "p8jifVSb0qG9",
        "outputId": "77902932-1aaa-4ba3-96b7-198935d9c887"
      },
      "execution_count": 213,
      "outputs": [
        {
          "output_type": "stream",
          "name": "stdout",
          "text": [
            "Con Librerias mae = 0.398, mse = 0.21606, rmse = 0.4648225467853297, R2 =0.81995\n",
            "Calculadas    MAE = 0.398, MSE = 0.21606, SMSE = 0.4648225467853297\n"
          ]
        }
      ]
    },
    {
      "cell_type": "markdown",
      "source": [
        "Liberias from sklearn.metrics import mean_squared_error"
      ],
      "metadata": {
        "id": "zaAZCI4FyhEq"
      }
    }
  ]
}