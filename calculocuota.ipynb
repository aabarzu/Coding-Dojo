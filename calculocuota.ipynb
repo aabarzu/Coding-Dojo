{
  "nbformat": 4,
  "nbformat_minor": 0,
  "metadata": {
    "colab": {
      "name": "calculocuota.ipynb",
      "provenance": [],
      "collapsed_sections": []
    },
    "kernelspec": {
      "name": "python3",
      "display_name": "Python 3"
    },
    "language_info": {
      "name": "python"
    }
  },
  "cells": [
    {
      "cell_type": "code",
      "execution_count": 15,
      "metadata": {
        "id": "Nxhb4JpnRoQz"
      },
      "outputs": [],
      "source": [
        "def calculocuota(p,r,n):\n",
        "  \n",
        "  r = r/100.0/12.0\n",
        "  valor1 = (1+r)**n\n",
        "\n",
        "  #print(f\"Number of payments = {n}\" )\n",
        "  #print(f\"Interest rate / 12 = {r}\" )\n",
        "  #print(f\"(1 + r )^n       = {valor1}\")\n",
        "  #print(f\"r * (1 + r )^n   = {r * valor1 }\")\n",
        "  #print(f\"(1 + r )^n       = {valor1}\")\n",
        "  #print(f\"(1 + r )^n -1    = {valor1 -1}\",  )\n",
        "  #print(f\"(1 + r )^n -1    = {p* ((r * valor1)/(valor1 -1))}\",  )\n",
        "\n",
        "  \n",
        "  return round( p* ((r * valor1)/(valor1 -1)) , 2)\n",
        "\n"
      ]
    },
    {
      "cell_type": "code",
      "source": [
        "print(f\" valor cuota es {calculocuota(400000,3,360)}\\n\")\n",
        "print(f\" valor cuota es {calculocuota(100000,10,12)}\\n\")"
      ],
      "metadata": {
        "colab": {
          "base_uri": "https://localhost:8080/"
        },
        "id": "AcFA2FJSza8b",
        "outputId": "147b7bb1-c271-48d5-e45b-7ab7cee1a02a"
      },
      "execution_count": 16,
      "outputs": [
        {
          "output_type": "stream",
          "name": "stdout",
          "text": [
            " valor cuota es 1686.42\n",
            "\n",
            " valor cuota es 8791.59\n",
            "\n"
          ]
        }
      ]
    }
  ]
}