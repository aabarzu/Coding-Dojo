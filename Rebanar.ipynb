{
  "nbformat": 4,
  "nbformat_minor": 0,
  "metadata": {
    "colab": {
      "name": "Rebanar.ipynb",
      "provenance": [],
      "collapsed_sections": [],
      "authorship_tag": "ABX9TyPmW3LVQzX5oHn4iXhY8UEk",
      "include_colab_link": true
    },
    "kernelspec": {
      "name": "python3",
      "display_name": "Python 3"
    },
    "language_info": {
      "name": "python"
    }
  },
  "cells": [
    {
      "cell_type": "markdown",
      "metadata": {
        "id": "view-in-github",
        "colab_type": "text"
      },
      "source": [
        "<a href=\"https://colab.research.google.com/github/aabarzu/Coding-Dojo/blob/main/Rebanar.ipynb\" target=\"_parent\"><img src=\"https://colab.research.google.com/assets/colab-badge.svg\" alt=\"Open In Colab\"/></a>"
      ]
    },
    {
      "cell_type": "code",
      "execution_count": 7,
      "metadata": {
        "colab": {
          "base_uri": "https://localhost:8080/"
        },
        "id": "FsL4BhfVzv5D",
        "outputId": "fd9ecddb-8fa8-4aca-9ee8-af2c0d5c4c74"
      },
      "outputs": [
        {
          "output_type": "stream",
          "name": "stdout",
          "text": [
            "Mounted at /content/drive\n",
            "DATAFRAME \n",
            "\n",
            "      RM\n",
            "0  6.575\n",
            "1  6.421\n",
            "2  7.185\n",
            "3  6.998\n",
            "4  7.147\n",
            "      RM  target\n",
            "0  6.575    24.0\n",
            "1  6.421    21.6\n",
            "2  7.185    34.7\n",
            "3  6.998    33.4\n",
            "4  7.147    36.2\n",
            "        RM  LSTAT  PTRATIO  target\n",
            "501  6.593   9.67     21.0    22.4\n",
            "502  6.120   9.08     21.0    20.6\n",
            "503  6.976   5.64     21.0    23.9\n",
            "504  6.794   6.48     21.0    22.0\n",
            "505  6.030   7.88     21.0    11.9\n",
            "SERIES \n",
            "\n"
          ]
        },
        {
          "output_type": "execute_result",
          "data": {
            "text/plain": [
              "0    6.575\n",
              "1    6.421\n",
              "2    7.185\n",
              "3    6.998\n",
              "4    7.147\n",
              "Name: RM, dtype: float64"
            ]
          },
          "metadata": {},
          "execution_count": 7
        }
      ],
      "source": [
        "from google.colab import drive\n",
        "import pandas as pd\n",
        "\n",
        "\n",
        "drive.mount('/content/drive', force_remount=True)\n",
        "\n",
        "filename = '/content/drive/My Drive/CodingDojo/DataScience/PandasForDataManipulation/bostonHousing1978.xlsx'\n",
        "\n",
        "\n",
        "df = pd.read_excel(filename)\n",
        "\n",
        "#REBANAR\n",
        "\n",
        "#DATAFRAME\n",
        "\n",
        "print(\"DATAFRAME \\n\")\n",
        "print( df[['RM']].head()  )\n",
        "\n",
        "print( df[['RM','target']].head() )\n",
        "\n",
        "print( df[['RM', 'LSTAT', 'PTRATIO', 'target']].tail() )\n",
        "\n",
        "\n",
        "#SERIES\n",
        "print(\"SERIES \\n\")\n",
        "df['RM'].head()\n"
      ]
    }
  ]
}