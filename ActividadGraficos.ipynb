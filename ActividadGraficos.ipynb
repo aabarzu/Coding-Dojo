{
  "nbformat": 4,
  "nbformat_minor": 0,
  "metadata": {
    "colab": {
      "name": "ActividadGraficos.ipynb",
      "provenance": [],
      "collapsed_sections": [],
      "authorship_tag": "ABX9TyOR8GC8AYWsYoyK8PHEalqy",
      "include_colab_link": true
    },
    "kernelspec": {
      "name": "python3",
      "display_name": "Python 3"
    },
    "language_info": {
      "name": "python"
    }
  },
  "cells": [
    {
      "cell_type": "markdown",
      "metadata": {
        "id": "view-in-github",
        "colab_type": "text"
      },
      "source": [
        "<a href=\"https://colab.research.google.com/github/aabarzu/Coding-Dojo/blob/main/ActividadGraficos.ipynb\" target=\"_parent\"><img src=\"https://colab.research.google.com/assets/colab-badge.svg\" alt=\"Open In Colab\"/></a>"
      ]
    },
    {
      "cell_type": "markdown",
      "source": [
        "1.   Cargue la información de dicho archivo en un dataframe pandas.\n",
        "2.   Con la información extraída, genere un histograma de las notas del curso, mostrando en texto en el gráfico la media y la desviación estándar.\n",
        "3.   Ordene las notas y genere un gráfico (el que ud estime conveniente) de las notas ordenadas de menor a mayor.\n",
        "4.   Genere dos gráficos de torta en una misma figura, mostrando el porcentaje de hombres y mujeres en el curso a la izquierda, y a la derecha el porcentaje de aprobados y reprobados.\n",
        "\n",
        "\n",
        "\n",
        "\n",
        "\n"
      ],
      "metadata": {
        "id": "ZoMtCuycDaND"
      }
    },
    {
      "cell_type": "markdown",
      "source": [
        "# **1.   Cargue la información de dicho archivo en un dataframe pandas.**"
      ],
      "metadata": {
        "id": "ZBORrwWZEHev"
      }
    },
    {
      "cell_type": "code",
      "execution_count": 200,
      "metadata": {
        "colab": {
          "base_uri": "https://localhost:8080/",
          "height": 851
        },
        "id": "bVo3IPuT1Hxb",
        "outputId": "468af390-c96a-4d92-afe2-b35bae1ff3bc"
      },
      "outputs": [
        {
          "output_type": "stream",
          "name": "stdout",
          "text": [
            "Mounted at /content/drive\n"
          ]
        },
        {
          "output_type": "execute_result",
          "data": {
            "text/plain": [
              "                  Nombre  Nota Genero\n",
              "0       SEBASTIÁN ISRAEL    79      M\n",
              "1         DANIEL ANTONIO    67      M\n",
              "2       CRISTIAN ALBERTO    78      M\n",
              "3         MARÍA GABRIELA    54      F\n",
              "4           JOSÉ ANTONIO    79      M\n",
              "5          BRAYAN ANDRÉS    75      M\n",
              "6         TOMÁS FERNANDO    68      M\n",
              "7      CHRISTIAN GABRIEL    76      M\n",
              "8            LUIS FELIPE    78      M\n",
              "9          OSCAR IGNACIO    57      M\n",
              "10     CRISTOBAL ALFREDO    16      M\n",
              "11         MARTÍN FELIPE    68      M\n",
              "12           PAULA BELÉN    75      F\n",
              "13       MARCELO EDUARDO    73      M\n",
              "14         MATIAS ALEXIS    62      M\n",
              "15      NICOLÁS FERNANDO    66      M\n",
              "16         NÉSTOR FABIÁN    72      M\n",
              "17          LORENS ANDRE    68      M\n",
              "18           JOSE MANUEL    85      M\n",
              "19         LILIAN XIMENA    86      F\n",
              "20        BRYAN FABRICIO    80      M\n",
              "21        MATÍAS ANTONIO    85      M\n",
              "22  CLAUDIO BLAS ARNALDO    63      M\n",
              "23            HELEN ANNY    54      F\n",
              "24       VALENTINA BELEN    86      F"
            ],
            "text/html": [
              "\n",
              "  <div id=\"df-d1c727e5-d4be-4be8-9078-94e996b6e929\">\n",
              "    <div class=\"colab-df-container\">\n",
              "      <div>\n",
              "<style scoped>\n",
              "    .dataframe tbody tr th:only-of-type {\n",
              "        vertical-align: middle;\n",
              "    }\n",
              "\n",
              "    .dataframe tbody tr th {\n",
              "        vertical-align: top;\n",
              "    }\n",
              "\n",
              "    .dataframe thead th {\n",
              "        text-align: right;\n",
              "    }\n",
              "</style>\n",
              "<table border=\"1\" class=\"dataframe\">\n",
              "  <thead>\n",
              "    <tr style=\"text-align: right;\">\n",
              "      <th></th>\n",
              "      <th>Nombre</th>\n",
              "      <th>Nota</th>\n",
              "      <th>Genero</th>\n",
              "    </tr>\n",
              "  </thead>\n",
              "  <tbody>\n",
              "    <tr>\n",
              "      <th>0</th>\n",
              "      <td>SEBASTIÁN ISRAEL</td>\n",
              "      <td>79</td>\n",
              "      <td>M</td>\n",
              "    </tr>\n",
              "    <tr>\n",
              "      <th>1</th>\n",
              "      <td>DANIEL ANTONIO</td>\n",
              "      <td>67</td>\n",
              "      <td>M</td>\n",
              "    </tr>\n",
              "    <tr>\n",
              "      <th>2</th>\n",
              "      <td>CRISTIAN ALBERTO</td>\n",
              "      <td>78</td>\n",
              "      <td>M</td>\n",
              "    </tr>\n",
              "    <tr>\n",
              "      <th>3</th>\n",
              "      <td>MARÍA GABRIELA</td>\n",
              "      <td>54</td>\n",
              "      <td>F</td>\n",
              "    </tr>\n",
              "    <tr>\n",
              "      <th>4</th>\n",
              "      <td>JOSÉ ANTONIO</td>\n",
              "      <td>79</td>\n",
              "      <td>M</td>\n",
              "    </tr>\n",
              "    <tr>\n",
              "      <th>5</th>\n",
              "      <td>BRAYAN ANDRÉS</td>\n",
              "      <td>75</td>\n",
              "      <td>M</td>\n",
              "    </tr>\n",
              "    <tr>\n",
              "      <th>6</th>\n",
              "      <td>TOMÁS FERNANDO</td>\n",
              "      <td>68</td>\n",
              "      <td>M</td>\n",
              "    </tr>\n",
              "    <tr>\n",
              "      <th>7</th>\n",
              "      <td>CHRISTIAN GABRIEL</td>\n",
              "      <td>76</td>\n",
              "      <td>M</td>\n",
              "    </tr>\n",
              "    <tr>\n",
              "      <th>8</th>\n",
              "      <td>LUIS FELIPE</td>\n",
              "      <td>78</td>\n",
              "      <td>M</td>\n",
              "    </tr>\n",
              "    <tr>\n",
              "      <th>9</th>\n",
              "      <td>OSCAR IGNACIO</td>\n",
              "      <td>57</td>\n",
              "      <td>M</td>\n",
              "    </tr>\n",
              "    <tr>\n",
              "      <th>10</th>\n",
              "      <td>CRISTOBAL ALFREDO</td>\n",
              "      <td>16</td>\n",
              "      <td>M</td>\n",
              "    </tr>\n",
              "    <tr>\n",
              "      <th>11</th>\n",
              "      <td>MARTÍN FELIPE</td>\n",
              "      <td>68</td>\n",
              "      <td>M</td>\n",
              "    </tr>\n",
              "    <tr>\n",
              "      <th>12</th>\n",
              "      <td>PAULA BELÉN</td>\n",
              "      <td>75</td>\n",
              "      <td>F</td>\n",
              "    </tr>\n",
              "    <tr>\n",
              "      <th>13</th>\n",
              "      <td>MARCELO EDUARDO</td>\n",
              "      <td>73</td>\n",
              "      <td>M</td>\n",
              "    </tr>\n",
              "    <tr>\n",
              "      <th>14</th>\n",
              "      <td>MATIAS ALEXIS</td>\n",
              "      <td>62</td>\n",
              "      <td>M</td>\n",
              "    </tr>\n",
              "    <tr>\n",
              "      <th>15</th>\n",
              "      <td>NICOLÁS FERNANDO</td>\n",
              "      <td>66</td>\n",
              "      <td>M</td>\n",
              "    </tr>\n",
              "    <tr>\n",
              "      <th>16</th>\n",
              "      <td>NÉSTOR FABIÁN</td>\n",
              "      <td>72</td>\n",
              "      <td>M</td>\n",
              "    </tr>\n",
              "    <tr>\n",
              "      <th>17</th>\n",
              "      <td>LORENS ANDRE</td>\n",
              "      <td>68</td>\n",
              "      <td>M</td>\n",
              "    </tr>\n",
              "    <tr>\n",
              "      <th>18</th>\n",
              "      <td>JOSE MANUEL</td>\n",
              "      <td>85</td>\n",
              "      <td>M</td>\n",
              "    </tr>\n",
              "    <tr>\n",
              "      <th>19</th>\n",
              "      <td>LILIAN XIMENA</td>\n",
              "      <td>86</td>\n",
              "      <td>F</td>\n",
              "    </tr>\n",
              "    <tr>\n",
              "      <th>20</th>\n",
              "      <td>BRYAN FABRICIO</td>\n",
              "      <td>80</td>\n",
              "      <td>M</td>\n",
              "    </tr>\n",
              "    <tr>\n",
              "      <th>21</th>\n",
              "      <td>MATÍAS ANTONIO</td>\n",
              "      <td>85</td>\n",
              "      <td>M</td>\n",
              "    </tr>\n",
              "    <tr>\n",
              "      <th>22</th>\n",
              "      <td>CLAUDIO BLAS ARNALDO</td>\n",
              "      <td>63</td>\n",
              "      <td>M</td>\n",
              "    </tr>\n",
              "    <tr>\n",
              "      <th>23</th>\n",
              "      <td>HELEN ANNY</td>\n",
              "      <td>54</td>\n",
              "      <td>F</td>\n",
              "    </tr>\n",
              "    <tr>\n",
              "      <th>24</th>\n",
              "      <td>VALENTINA BELEN</td>\n",
              "      <td>86</td>\n",
              "      <td>F</td>\n",
              "    </tr>\n",
              "  </tbody>\n",
              "</table>\n",
              "</div>\n",
              "      <button class=\"colab-df-convert\" onclick=\"convertToInteractive('df-d1c727e5-d4be-4be8-9078-94e996b6e929')\"\n",
              "              title=\"Convert this dataframe to an interactive table.\"\n",
              "              style=\"display:none;\">\n",
              "        \n",
              "  <svg xmlns=\"http://www.w3.org/2000/svg\" height=\"24px\"viewBox=\"0 0 24 24\"\n",
              "       width=\"24px\">\n",
              "    <path d=\"M0 0h24v24H0V0z\" fill=\"none\"/>\n",
              "    <path d=\"M18.56 5.44l.94 2.06.94-2.06 2.06-.94-2.06-.94-.94-2.06-.94 2.06-2.06.94zm-11 1L8.5 8.5l.94-2.06 2.06-.94-2.06-.94L8.5 2.5l-.94 2.06-2.06.94zm10 10l.94 2.06.94-2.06 2.06-.94-2.06-.94-.94-2.06-.94 2.06-2.06.94z\"/><path d=\"M17.41 7.96l-1.37-1.37c-.4-.4-.92-.59-1.43-.59-.52 0-1.04.2-1.43.59L10.3 9.45l-7.72 7.72c-.78.78-.78 2.05 0 2.83L4 21.41c.39.39.9.59 1.41.59.51 0 1.02-.2 1.41-.59l7.78-7.78 2.81-2.81c.8-.78.8-2.07 0-2.86zM5.41 20L4 18.59l7.72-7.72 1.47 1.35L5.41 20z\"/>\n",
              "  </svg>\n",
              "      </button>\n",
              "      \n",
              "  <style>\n",
              "    .colab-df-container {\n",
              "      display:flex;\n",
              "      flex-wrap:wrap;\n",
              "      gap: 12px;\n",
              "    }\n",
              "\n",
              "    .colab-df-convert {\n",
              "      background-color: #E8F0FE;\n",
              "      border: none;\n",
              "      border-radius: 50%;\n",
              "      cursor: pointer;\n",
              "      display: none;\n",
              "      fill: #1967D2;\n",
              "      height: 32px;\n",
              "      padding: 0 0 0 0;\n",
              "      width: 32px;\n",
              "    }\n",
              "\n",
              "    .colab-df-convert:hover {\n",
              "      background-color: #E2EBFA;\n",
              "      box-shadow: 0px 1px 2px rgba(60, 64, 67, 0.3), 0px 1px 3px 1px rgba(60, 64, 67, 0.15);\n",
              "      fill: #174EA6;\n",
              "    }\n",
              "\n",
              "    [theme=dark] .colab-df-convert {\n",
              "      background-color: #3B4455;\n",
              "      fill: #D2E3FC;\n",
              "    }\n",
              "\n",
              "    [theme=dark] .colab-df-convert:hover {\n",
              "      background-color: #434B5C;\n",
              "      box-shadow: 0px 1px 3px 1px rgba(0, 0, 0, 0.15);\n",
              "      filter: drop-shadow(0px 1px 2px rgba(0, 0, 0, 0.3));\n",
              "      fill: #FFFFFF;\n",
              "    }\n",
              "  </style>\n",
              "\n",
              "      <script>\n",
              "        const buttonEl =\n",
              "          document.querySelector('#df-d1c727e5-d4be-4be8-9078-94e996b6e929 button.colab-df-convert');\n",
              "        buttonEl.style.display =\n",
              "          google.colab.kernel.accessAllowed ? 'block' : 'none';\n",
              "\n",
              "        async function convertToInteractive(key) {\n",
              "          const element = document.querySelector('#df-d1c727e5-d4be-4be8-9078-94e996b6e929');\n",
              "          const dataTable =\n",
              "            await google.colab.kernel.invokeFunction('convertToInteractive',\n",
              "                                                     [key], {});\n",
              "          if (!dataTable) return;\n",
              "\n",
              "          const docLinkHtml = 'Like what you see? Visit the ' +\n",
              "            '<a target=\"_blank\" href=https://colab.research.google.com/notebooks/data_table.ipynb>data table notebook</a>'\n",
              "            + ' to learn more about interactive tables.';\n",
              "          element.innerHTML = '';\n",
              "          dataTable['output_type'] = 'display_data';\n",
              "          await google.colab.output.renderOutput(dataTable, element);\n",
              "          const docLink = document.createElement('div');\n",
              "          docLink.innerHTML = docLinkHtml;\n",
              "          element.appendChild(docLink);\n",
              "        }\n",
              "      </script>\n",
              "    </div>\n",
              "  </div>\n",
              "  "
            ]
          },
          "metadata": {},
          "execution_count": 200
        }
      ],
      "source": [
        "from google.colab import drive\n",
        "drive.mount('/content/drive',force_remount=True) #  force_remount=True , pide eso no sé porqué\n",
        "import pandas as pd\n",
        "\n",
        "filename = '/content/drive/MyDrive/CodingDojo/DataScience/PandasForDataManipulation/Datos/notas-genero.csv'     # csv\n",
        "\n",
        "df = pd.read_csv(filename, sep='\\t')   # csv\n",
        "#,skiprows = 4 --> Saltar filas del archivo y comenzar más abao\n",
        "\n",
        "df "
      ]
    },
    {
      "cell_type": "code",
      "source": [
        "df.describe()"
      ],
      "metadata": {
        "colab": {
          "base_uri": "https://localhost:8080/",
          "height": 300
        },
        "id": "CT3OUfIkXEd_",
        "outputId": "075380e0-4587-46d0-8ff2-29a1f29b1033"
      },
      "execution_count": 201,
      "outputs": [
        {
          "output_type": "execute_result",
          "data": {
            "text/plain": [
              "           Nota\n",
              "count  25.00000\n",
              "mean   70.00000\n",
              "std    14.71677\n",
              "min    16.00000\n",
              "25%    66.00000\n",
              "50%    73.00000\n",
              "75%    79.00000\n",
              "max    86.00000"
            ],
            "text/html": [
              "\n",
              "  <div id=\"df-f357b452-3f94-4e55-b6d8-83acf535e79d\">\n",
              "    <div class=\"colab-df-container\">\n",
              "      <div>\n",
              "<style scoped>\n",
              "    .dataframe tbody tr th:only-of-type {\n",
              "        vertical-align: middle;\n",
              "    }\n",
              "\n",
              "    .dataframe tbody tr th {\n",
              "        vertical-align: top;\n",
              "    }\n",
              "\n",
              "    .dataframe thead th {\n",
              "        text-align: right;\n",
              "    }\n",
              "</style>\n",
              "<table border=\"1\" class=\"dataframe\">\n",
              "  <thead>\n",
              "    <tr style=\"text-align: right;\">\n",
              "      <th></th>\n",
              "      <th>Nota</th>\n",
              "    </tr>\n",
              "  </thead>\n",
              "  <tbody>\n",
              "    <tr>\n",
              "      <th>count</th>\n",
              "      <td>25.00000</td>\n",
              "    </tr>\n",
              "    <tr>\n",
              "      <th>mean</th>\n",
              "      <td>70.00000</td>\n",
              "    </tr>\n",
              "    <tr>\n",
              "      <th>std</th>\n",
              "      <td>14.71677</td>\n",
              "    </tr>\n",
              "    <tr>\n",
              "      <th>min</th>\n",
              "      <td>16.00000</td>\n",
              "    </tr>\n",
              "    <tr>\n",
              "      <th>25%</th>\n",
              "      <td>66.00000</td>\n",
              "    </tr>\n",
              "    <tr>\n",
              "      <th>50%</th>\n",
              "      <td>73.00000</td>\n",
              "    </tr>\n",
              "    <tr>\n",
              "      <th>75%</th>\n",
              "      <td>79.00000</td>\n",
              "    </tr>\n",
              "    <tr>\n",
              "      <th>max</th>\n",
              "      <td>86.00000</td>\n",
              "    </tr>\n",
              "  </tbody>\n",
              "</table>\n",
              "</div>\n",
              "      <button class=\"colab-df-convert\" onclick=\"convertToInteractive('df-f357b452-3f94-4e55-b6d8-83acf535e79d')\"\n",
              "              title=\"Convert this dataframe to an interactive table.\"\n",
              "              style=\"display:none;\">\n",
              "        \n",
              "  <svg xmlns=\"http://www.w3.org/2000/svg\" height=\"24px\"viewBox=\"0 0 24 24\"\n",
              "       width=\"24px\">\n",
              "    <path d=\"M0 0h24v24H0V0z\" fill=\"none\"/>\n",
              "    <path d=\"M18.56 5.44l.94 2.06.94-2.06 2.06-.94-2.06-.94-.94-2.06-.94 2.06-2.06.94zm-11 1L8.5 8.5l.94-2.06 2.06-.94-2.06-.94L8.5 2.5l-.94 2.06-2.06.94zm10 10l.94 2.06.94-2.06 2.06-.94-2.06-.94-.94-2.06-.94 2.06-2.06.94z\"/><path d=\"M17.41 7.96l-1.37-1.37c-.4-.4-.92-.59-1.43-.59-.52 0-1.04.2-1.43.59L10.3 9.45l-7.72 7.72c-.78.78-.78 2.05 0 2.83L4 21.41c.39.39.9.59 1.41.59.51 0 1.02-.2 1.41-.59l7.78-7.78 2.81-2.81c.8-.78.8-2.07 0-2.86zM5.41 20L4 18.59l7.72-7.72 1.47 1.35L5.41 20z\"/>\n",
              "  </svg>\n",
              "      </button>\n",
              "      \n",
              "  <style>\n",
              "    .colab-df-container {\n",
              "      display:flex;\n",
              "      flex-wrap:wrap;\n",
              "      gap: 12px;\n",
              "    }\n",
              "\n",
              "    .colab-df-convert {\n",
              "      background-color: #E8F0FE;\n",
              "      border: none;\n",
              "      border-radius: 50%;\n",
              "      cursor: pointer;\n",
              "      display: none;\n",
              "      fill: #1967D2;\n",
              "      height: 32px;\n",
              "      padding: 0 0 0 0;\n",
              "      width: 32px;\n",
              "    }\n",
              "\n",
              "    .colab-df-convert:hover {\n",
              "      background-color: #E2EBFA;\n",
              "      box-shadow: 0px 1px 2px rgba(60, 64, 67, 0.3), 0px 1px 3px 1px rgba(60, 64, 67, 0.15);\n",
              "      fill: #174EA6;\n",
              "    }\n",
              "\n",
              "    [theme=dark] .colab-df-convert {\n",
              "      background-color: #3B4455;\n",
              "      fill: #D2E3FC;\n",
              "    }\n",
              "\n",
              "    [theme=dark] .colab-df-convert:hover {\n",
              "      background-color: #434B5C;\n",
              "      box-shadow: 0px 1px 3px 1px rgba(0, 0, 0, 0.15);\n",
              "      filter: drop-shadow(0px 1px 2px rgba(0, 0, 0, 0.3));\n",
              "      fill: #FFFFFF;\n",
              "    }\n",
              "  </style>\n",
              "\n",
              "      <script>\n",
              "        const buttonEl =\n",
              "          document.querySelector('#df-f357b452-3f94-4e55-b6d8-83acf535e79d button.colab-df-convert');\n",
              "        buttonEl.style.display =\n",
              "          google.colab.kernel.accessAllowed ? 'block' : 'none';\n",
              "\n",
              "        async function convertToInteractive(key) {\n",
              "          const element = document.querySelector('#df-f357b452-3f94-4e55-b6d8-83acf535e79d');\n",
              "          const dataTable =\n",
              "            await google.colab.kernel.invokeFunction('convertToInteractive',\n",
              "                                                     [key], {});\n",
              "          if (!dataTable) return;\n",
              "\n",
              "          const docLinkHtml = 'Like what you see? Visit the ' +\n",
              "            '<a target=\"_blank\" href=https://colab.research.google.com/notebooks/data_table.ipynb>data table notebook</a>'\n",
              "            + ' to learn more about interactive tables.';\n",
              "          element.innerHTML = '';\n",
              "          dataTable['output_type'] = 'display_data';\n",
              "          await google.colab.output.renderOutput(dataTable, element);\n",
              "          const docLink = document.createElement('div');\n",
              "          docLink.innerHTML = docLinkHtml;\n",
              "          element.appendChild(docLink);\n",
              "        }\n",
              "      </script>\n",
              "    </div>\n",
              "  </div>\n",
              "  "
            ]
          },
          "metadata": {},
          "execution_count": 201
        }
      ]
    },
    {
      "cell_type": "markdown",
      "source": [
        "# **2.- Con la información extraída, genere un histograma de las notas del curso, mostrando en texto en el gráfico la media y la desviación estándar**"
      ],
      "metadata": {
        "id": "TWDaQhdI1_AE"
      }
    },
    {
      "cell_type": "code",
      "source": [
        "# Librerias para graficar\n",
        "import matplotlib.pyplot as plt"
      ],
      "metadata": {
        "id": "RSxwhpAS2Boh"
      },
      "execution_count": 202,
      "outputs": []
    },
    {
      "cell_type": "code",
      "source": [
        "data_Nota = df['Nota'].sort_values()\n",
        "media     = df['Nota'].mean()\n",
        "dts       = round(df['Nota'].std() , 4)\n",
        "\n",
        "fig1 = plt.figure(dpi=100)\n",
        "ax1  = fig1.add_subplot(1,1,1)\n",
        "ax1.text(20,0.06, f\"La media es {media} y la desviación estándar {dts}\", color=\"darkgreen\", fontsize=8)\n",
        "ax1.hist(data_Nota, data_Nota.count() , density=True)\n",
        "plt.show()\n"
      ],
      "metadata": {
        "colab": {
          "base_uri": "https://localhost:8080/",
          "height": 362
        },
        "id": "PMIWAvfs2yj-",
        "outputId": "c506c78a-ea83-4a24-eb5b-57680737d374"
      },
      "execution_count": 208,
      "outputs": [
        {
          "output_type": "display_data",
          "data": {
            "text/plain": [
              "<Figure size 600x400 with 1 Axes>"
            ],
            "image/png": "[encoded data removed]"
          },
          "metadata": {
            "needs_background": "light"
          }
        }
      ]
    },
    {
      "cell_type": "code",
      "source": [
        "#Estilo Leik ( La librería plot viene integrada en Pandas) Ley del Mínimo esfuerzo (Menos es Más , simple es mejor)\n",
        "df['Nota'].sort_values().plot.hist();\n"
      ],
      "metadata": {
        "colab": {
          "base_uri": "https://localhost:8080/",
          "height": 265
        },
        "id": "zxO6wpWPnvWA",
        "outputId": "7c46d07f-b4d8-41bd-a8ff-0d4bed47405b"
      },
      "execution_count": 213,
      "outputs": [
        {
          "output_type": "display_data",
          "data": {
            "text/plain": [
              "<Figure size 432x288 with 1 Axes>"
            ],
            "image/png": "[encoded data removed]"
          },
          "metadata": {
            "needs_background": "light"
          }
        }
      ]
    },
    {
      "cell_type": "markdown",
      "source": [
        "# **3.-Ordene las notas y genere un gráfico (el que ud estime conveniente) de las notas ordenadas de menor a mayor.**"
      ],
      "metadata": {
        "id": "wmFdo6UsKUqA"
      }
    },
    {
      "cell_type": "code",
      "source": [
        "#Estilo Leik ( La librería plot viene integrada en Pandas) Ley del Mínimo esfuerzo (Menos es Más , simple es mejor)\n",
        "df['Nota'].sort_values().plot.bar();\n"
      ],
      "metadata": {
        "colab": {
          "base_uri": "https://localhost:8080/",
          "height": 268
        },
        "id": "EqygHHnp4r6p",
        "outputId": "1040db33-b7c5-4835-d90e-8922fe6c60ac"
      },
      "execution_count": 190,
      "outputs": [
        {
          "output_type": "display_data",
          "data": {
            "text/plain": [
              "<Figure size 432x288 with 1 Axes>"
            ],
            "image/png": "[encoded data removed]"
          },
          "metadata": {
            "needs_background": "light"
          }
        }
      ]
    },
    {
      "cell_type": "code",
      "source": [
        "#Estilo Normal AA\n",
        "\n",
        "import matplotlib.pyplot as plt #from matplotlib import pyplot as plt\n",
        "\n",
        "\n",
        "data_Nota = df['Nota'].sort_values(ignore_index=True) #ignore_index=True crea un indice nuevo \n",
        "plt.figure(dpi=150) #resolución de figura (implica tamaño)\n",
        "plt.bar(data_Nota.index,data_Nota.values, color='lightblue')\n",
        "plt.show()"
      ],
      "metadata": {
        "colab": {
          "base_uri": "https://localhost:8080/",
          "height": 534
        },
        "id": "_WY4MfEAKp73",
        "outputId": "0e4b77df-b0fb-4b28-cccc-e584115f0e64"
      },
      "execution_count": 191,
      "outputs": [
        {
          "output_type": "display_data",
          "data": {
            "text/plain": [
              "<Figure size 900x600 with 1 Axes>"
            ],
            "image/png": "[encoded data removed]"
          },
          "metadata": {
            "needs_background": "light"
          }
        }
      ]
    },
    {
      "cell_type": "markdown",
      "source": [
        "# **3. Genere dos gráficos de torta en una misma figura, mostrando el porcentaje de hombres y mujeres en el curso a la izquierda, y a la derecha el porcentaje de aprobados y reprobados.**"
      ],
      "metadata": {
        "id": "338f44KnVZc2"
      }
    },
    {
      "cell_type": "code",
      "source": [
        "#Estilo Leik ( La librería plot viene integrada en Pandas) Ley del Mínimo esfuerzo (Menos es Más , simple es mejor)\n",
        "fig1 = plt.figure(dpi=120)\n",
        "\n",
        "(df.groupby(['Genero'])[['Genero']].count()).plot.pie(subplots=True, autopct=\"%.2f%%\");\n",
        "\n",
        "\n",
        "\n",
        "df2=df.copy()\n",
        "df2.loc[ df2['Nota'] < 50  , ['isAprobado'] ] = 'Reprobado'\n",
        "df2.loc[ df2['Nota'] >= 50 , ['isAprobado'] ] = 'Aprobado'\n",
        "\n",
        "(df2.groupby(['isAprobado'])[['isAprobado']].count()).plot.pie(subplots=True, autopct=\"%.2f%%\");\n"
      ],
      "metadata": {
        "colab": {
          "base_uri": "https://localhost:8080/",
          "height": 497
        },
        "id": "kwnvcagBR9Z8",
        "outputId": "42f2006a-479d-4fa7-8155-6b7075849c89"
      },
      "execution_count": 222,
      "outputs": [
        {
          "output_type": "display_data",
          "data": {
            "text/plain": [
              "<Figure size 720x480 with 0 Axes>"
            ]
          },
          "metadata": {}
        },
        {
          "output_type": "display_data",
          "data": {
            "text/plain": [
              "<Figure size 432x288 with 1 Axes>"
            ],
            "image/png": "[encoded data removed]"
          },
          "metadata": {}
        },
        {
          "output_type": "display_data",
          "data": {
            "text/plain": [
              "<Figure size 432x288 with 1 Axes>"
            ],
            "image/png": "[encoded data removed]"
          },
          "metadata": {}
        }
      ]
    },
    {
      "cell_type": "code",
      "source": [
        "#Estilo Normal AA\n",
        "import numpy as np\n",
        "\n",
        "data_pie1 = (df.groupby(['Genero'])[['Nota']].count()).copy() \n",
        "\n",
        "fig1 = plt.figure(dpi=150)\n",
        "\n",
        "ax1 = fig1.add_subplot(1,3,1); \n",
        "ax1.pie( np.array(data_pie1.values), labels=np.array(data_pie1.index) , autopct=\"%.2f%%\", shadow = False );\n",
        "ax1.legend()\n",
        "ax1.axis(\"equal\");\n",
        "\n",
        "df2=df.copy()\n",
        "\n",
        "df2.loc[ df2['Nota'] < 50  , ['isAprobado'] ] = 'Reprobado'\n",
        "df2.loc[ df2['Nota'] >= 50 , ['isAprobado'] ] = 'Aprobado'\n",
        "\n",
        "data_pie2 = df2.groupby(['isAprobado'])[['Nombre']].count()\n",
        "\n",
        "ax2 = fig1.add_subplot(1,3,3) ;\n",
        "ax2.pie( np.array(data_pie2.values), labels=np.array(data_pie2.index) , autopct=\"%.2f%%\", shadow = False );\n",
        "ax2.legend()\n",
        "ax2.axis(\"equal\");\n",
        "\n",
        "plt.show();"
      ],
      "metadata": {
        "colab": {
          "base_uri": "https://localhost:8080/",
          "height": 573
        },
        "id": "ZFKnbFo8WDRW",
        "outputId": "dd192148-e597-41a1-a4a9-a23bfa705a3f"
      },
      "execution_count": 228,
      "outputs": [
        {
          "output_type": "stream",
          "name": "stderr",
          "text": [
            "/usr/local/lib/python3.7/dist-packages/ipykernel_launcher.py:9: MatplotlibDeprecationWarning: Non-1D inputs to pie() are currently squeeze()d, but this behavior is deprecated since 3.1 and will be removed in 3.3; pass a 1D array instead.\n",
            "  if __name__ == '__main__':\n",
            "/usr/local/lib/python3.7/dist-packages/ipykernel_launcher.py:21: MatplotlibDeprecationWarning: Non-1D inputs to pie() are currently squeeze()d, but this behavior is deprecated since 3.1 and will be removed in 3.3; pass a 1D array instead.\n"
          ]
        },
        {
          "output_type": "display_data",
          "data": {
            "text/plain": [
              "<Figure size 900x600 with 2 Axes>"
            ],
            "image/png": "[encoded data removed]"
          },
          "metadata": {}
        }
      ]
    }
  ]
}