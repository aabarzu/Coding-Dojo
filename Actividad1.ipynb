{
  "nbformat": 4,
  "nbformat_minor": 0,
  "metadata": {
    "colab": {
      "name": "Actividad1.ipynb",
      "provenance": [],
      "collapsed_sections": [],
      "authorship_tag": "ABX9TyPxerY/rFJgzFzkssG7JNoH",
      "include_colab_link": true
    },
    "kernelspec": {
      "name": "python3",
      "display_name": "Python 3"
    },
    "language_info": {
      "name": "python"
    }
  },
  "cells": [
    {
      "cell_type": "markdown",
      "metadata": {
        "id": "view-in-github",
        "colab_type": "text"
      },
      "source": [
        "<a href=\"https://colab.research.google.com/github/aabarzu/Coding-Dojo/blob/main/Actividad1.ipynb\" target=\"_parent\"><img src=\"https://colab.research.google.com/assets/colab-badge.svg\" alt=\"Open In Colab\"/></a>"
      ]
    },
    {
      "cell_type": "code",
      "execution_count": 3,
      "metadata": {
        "id": "WTNt5iIDiaxF",
        "colab": {
          "base_uri": "https://localhost:8080/"
        },
        "outputId": "0b8ccbe5-a33c-4274-feaf-a065e527174a"
      },
      "outputs": [
        {
          "output_type": "stream",
          "name": "stdout",
          "text": [
            " Ingrese numero entre 2 y 1000 : 11\n",
            "El numero 11 es divisor de 11\n",
            "El numero 11 es primo\n"
          ]
        }
      ],
      "source": [
        "def ingresoNumero():\n",
        "  sw=False\n",
        "  numero=0\n",
        "  while not sw:\n",
        "    numero = input(\" Ingrese numero entre 2 y 1000 : \")\n",
        "    sw = (int(numero) >= 2 and int(numero) <= 1000)\n",
        "  return int(numero)\n",
        "\n",
        "\n",
        "numero =ingresoNumero()\n",
        "\n",
        "if numero %2==0 :\n",
        "    print(f\"El numero {numero} es par\")\n",
        "  \n",
        "divisores=0\n",
        "for num in  range( 2, numero+1 ):\n",
        "  if numero%num ==0:\n",
        "    print(f\"El numero {num} es divisor de {numero}\")\n",
        "    divisores+=1\n",
        "\n",
        "if divisores ==1:\n",
        "  print(f\"El numero {numero} es primo\")\n",
        "\n",
        "  \n",
        "   "
      ]
    }
  ]
}