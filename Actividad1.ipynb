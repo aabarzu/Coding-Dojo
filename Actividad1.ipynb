{
  "nbformat": 4,
  "nbformat_minor": 0,
  "metadata": {
    "colab": {
      "name": "Actividad1.ipynb",
      "provenance": [],
      "collapsed_sections": [],
      "authorship_tag": "ABX9TyMqtSWmesvYcC3n4JyTAP9Q",
      "include_colab_link": true
    },
    "kernelspec": {
      "name": "python3",
      "display_name": "Python 3"
    },
    "language_info": {
      "name": "python"
    }
  },
  "cells": [
    {
      "cell_type": "markdown",
      "metadata": {
        "id": "view-in-github",
        "colab_type": "text"
      },
      "source": [
        "<a href=\"https://colab.research.google.com/github/aabarzu/Coding-Dojo/blob/main/Actividad1.ipynb\" target=\"_parent\"><img src=\"https://colab.research.google.com/assets/colab-badge.svg\" alt=\"Open In Colab\"/></a>"
      ]
    },
    {
      "cell_type": "code",
      "execution_count": 4,
      "metadata": {
        "id": "WTNt5iIDiaxF",
        "colab": {
          "base_uri": "https://localhost:8080/"
        },
        "outputId": "b4787001-45ac-41f2-ee0e-f5336806b464"
      },
      "outputs": [
        {
          "output_type": "stream",
          "name": "stdout",
          "text": [
            " Ingrese numero entre 2 y 1000 : 3\n",
            "El numero 3 es impar\n",
            "El numero 3 es divisor de 3\n",
            "El numero 3 es primo\n"
          ]
        }
      ],
      "source": [
        "def ingresoNumero():\n",
        "  sw=False\n",
        "  numero=0\n",
        "  while not sw:\n",
        "    numero = input(\" Ingrese numero entre 2 y 1000 : \")\n",
        "    sw = (int(numero) >= 2 and int(numero) <= 1000)\n",
        "  return int(numero)\n",
        "\n",
        "\n",
        "numero =ingresoNumero()\n",
        "\n",
        "if numero %2==0 :\n",
        "  print(f\"El numero {numero} es par\")\n",
        "else:\n",
        "  print(f\"El numero {numero} es impar\")\n",
        "  \n",
        "divisores=0\n",
        "for num in  range( 2, numero+1 ):\n",
        "  if numero%num ==0:\n",
        "    print(f\"El numero {num} es divisor de {numero}\")\n",
        "    divisores+=1\n",
        "\n",
        "if divisores ==1:\n",
        "  print(f\"El numero {numero} es primo\")\n",
        "else:\n",
        "  print(f\"El numero {numero} no es primo\")  \n",
        "\n",
        "  \n",
        "   "
      ]
    }
  ]
}